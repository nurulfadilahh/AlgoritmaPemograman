{
  "cells": [
    {
      "cell_type": "markdown",
      "metadata": {
        "id": "view-in-github",
        "colab_type": "text"
      },
      "source": [
        "<a href=\"https://colab.research.google.com/github/nurulfadilahh/AlgoritmaPemograman/blob/main/Tugas_Pertemuan_13.ipynb\" target=\"_parent\"><img src=\"https://colab.research.google.com/assets/colab-badge.svg\" alt=\"Open In Colab\"/></a>"
      ]
    },
    {
      "cell_type": "markdown",
      "source": [
        "Nama  : Nurul Fadilah\n",
        "NIM   : H051211039\n",
        "Kelas : Algoritma Pemrograman A"
      ],
      "metadata": {
        "id": "8bQGqzp6GNiz"
      }
    },
    {
      "cell_type": "markdown",
      "metadata": {
        "id": "uDMARag2uN4A"
      },
      "source": [
        "1.Program untuk menghitung total pembelian N buah barang dengan harga dan jumlah tertentu"
      ]
    },
    {
      "cell_type": "code",
      "execution_count": null,
      "metadata": {
        "colab": {
          "base_uri": "https://localhost:8080/"
        },
        "id": "9lKHy0wJyjRc",
        "outputId": "5155d00c-5076-4c65-9da2-dccc4ca5353e"
      },
      "outputs": [
        {
          "output_type": "stream",
          "name": "stdout",
          "text": [
            "Banyak Jenis Barang= 2\n",
            "nama barang= buku\n",
            "jumlah barang= 2\n",
            "harga barang=Rp. 5000\n",
            "nama barang= pulpen\n",
            "jumlah barang= 2\n",
            "harga barang=Rp. 3000\n",
            "Total Pembelian :Rp. 16000\n"
          ]
        }
      ],
      "source": [
        "BanyakBarang=int(input('Banyak Jenis Barang= '))\n",
        "\n",
        "HargaBeli=0\n",
        "TotalHarga=0\n",
        "\n",
        "for i in range(1,BanyakBarang + 1,1) :\n",
        "  NamaBarang=input('nama barang= ')\n",
        "  JumlahBarang=int(input('jumlah barang= '))\n",
        "  HargaBarang=int(input('harga barang=Rp. '))\n",
        "\n",
        "  HargaBeli=JumlahBarang*HargaBarang\n",
        "  TotalHarga=TotalHarga + HargaBeli\n",
        "print(\"Total Pembelian :Rp.\",TotalHarga)\n"
      ]
    },
    {
      "cell_type": "markdown",
      "metadata": {
        "id": "q1NIjPtr0iC9"
      },
      "source": [
        "2.Program untuk menghitung banyaknya bilangan genap ataupun bilangan ganjil\n",
        "dari N buah bilangan yang diinput secara acak"
      ]
    },
    {
      "cell_type": "code",
      "execution_count": null,
      "metadata": {
        "colab": {
          "base_uri": "https://localhost:8080/"
        },
        "id": "c1w60cN50tMe",
        "outputId": "12b1a990-27b8-4b47-f36b-6b9f7ff73382"
      },
      "outputs": [
        {
          "name": "stdout",
          "output_type": "stream",
          "text": [
            "Banyaknya bilangan genap adalah 2 bilangan\n",
            "Banyaknya bilangan ganjil adalah 3 bilangan\n"
          ]
        }
      ],
      "source": [
        "count=0\n",
        "countt=0\n",
        "for i in [2,4,3,15,17] :\n",
        "  if i % 2 == 0 :\n",
        "    count=count+1\n",
        "  else :\n",
        "    countt=countt+1\n",
        "print('Banyaknya bilangan genap adalah %d bilangan' %count)\n",
        "print('Banyaknya bilangan ganjil adalah %d bilangan' %countt) "
      ]
    },
    {
      "cell_type": "markdown",
      "metadata": {
        "id": "QV4u1qQg0wOp"
      },
      "source": [
        "3.Program untuk menampilkan bilangan kelipatan 3 diantara bilangan tertentu"
      ]
    },
    {
      "cell_type": "code",
      "execution_count": null,
      "metadata": {
        "colab": {
          "base_uri": "https://localhost:8080/"
        },
        "id": "92qYStkz075F",
        "outputId": "f9a15683-adb5-4cf1-c909-7c7e797adc0a"
      },
      "outputs": [
        {
          "name": "stdout",
          "output_type": "stream",
          "text": [
            "3\n",
            "18\n"
          ]
        }
      ],
      "source": [
        "for i in [4,3,14,18,17] :\n",
        "  if i % 3 == 0 :\n",
        "    print(i)\n"
      ]
    },
    {
      "cell_type": "code",
      "source": [
        "for i in range(1,11) :\n",
        "  if i%3==0 :\n",
        "    print(i)"
      ],
      "metadata": {
        "colab": {
          "base_uri": "https://localhost:8080/"
        },
        "id": "ZfvC7LF7jnGB",
        "outputId": "d3bdefd0-ade3-41ce-c034-9a2f15b354e4"
      },
      "execution_count": null,
      "outputs": [
        {
          "output_type": "stream",
          "name": "stdout",
          "text": [
            "3\n",
            "6\n",
            "9\n"
          ]
        }
      ]
    },
    {
      "cell_type": "markdown",
      "metadata": {
        "id": "i-k8IhHrCFEg"
      },
      "source": [
        "4.Program untuk menampilkan bentuk bilangan seperti berikut ini :\n",
        "Bilangan : <input semua bilangan(misal :5)>\n",
        "1\n",
        "12\n",
        "123\n",
        "1234\n",
        "12345"
      ]
    },
    {
      "cell_type": "code",
      "execution_count": null,
      "metadata": {
        "colab": {
          "base_uri": "https://localhost:8080/"
        },
        "id": "qYRKmtpbCYyx",
        "outputId": "819fc09a-18be-46d0-f3e5-375e0bc1c917"
      },
      "outputs": [
        {
          "output_type": "stream",
          "name": "stdout",
          "text": [
            "Masukkan berapa banyak bilangan= 5\n",
            "1\n",
            "12\n",
            "123\n",
            "1234\n",
            "12345\n"
          ]
        }
      ],
      "source": [
        "Y=int(input(\"Masukkan berapa banyak bilangan= \"))\n",
        "for i in range(1,Y+1) :\n",
        "  for j in range(1,i+1) :\n",
        "    print(j,end=\"\")\n",
        "  print()"
      ]
    },
    {
      "cell_type": "markdown",
      "metadata": {
        "id": "678CAdHjEQn8"
      },
      "source": [
        "5.Program untuk menghitung dan menampilkan bentuk berikut ini : \n",
        "No. Nama Mhs N.Tugas N.Kuis N.UTS N.UAS Nilai Akhir\n"
      ]
    },
    {
      "cell_type": "code",
      "execution_count": null,
      "metadata": {
        "id": "m4ukl96SEn1j",
        "colab": {
          "base_uri": "https://localhost:8080/"
        },
        "outputId": "69a0b7b2-a390-415d-cdce-c030f0ed06e1"
      },
      "outputs": [
        {
          "output_type": "stream",
          "name": "stdout",
          "text": [
            "masukkan jumlah data : 1\n",
            "masukkan nama : NURFA\n",
            "masukkan nilai tugas : 90\n",
            "masukkan nilai kuis : 95\n",
            "masukkan nilai uts : 90\n",
            "masukkan nilai uas : 85\n",
            "\n",
            "----------------------------------------------------------\n",
            "No. Nama mhs\tN.Tugas\tN.Kuis\tN.UTS\tN.UAS\tNilaiAkhir\n",
            "----------------------------------------------------------\n",
            "1. NURFA\t 90\t 95\t 90\t 85\t 90.0\n"
          ]
        }
      ],
      "source": [
        "jumlahData=int(input(\"masukkan jumlah data : \"))\n",
        "\n",
        "listNilai= []\n",
        "for i in range(jumlahData) :\n",
        "    data={}\n",
        "    data[\"nama\"]=input(\"masukkan nama : \")\n",
        "    data[\"tugas\"]=int(input(\"masukkan nilai tugas : \"))\n",
        "    data[\"kuis\"]=int(input(\"masukkan nilai kuis : \"))\n",
        "    data[\"uts\"]=int(input(\"masukkan nilai uts : \"))\n",
        "    data[\"uas\"]=int(input(\"masukkan nilai uas : \"))\n",
        "    listNilai.append(data)\n",
        "\n",
        "print(\"\")\n",
        "print(\"----------------------------------------------------------\")\n",
        "print(\"No. Nama mhs\\tN.Tugas\\tN.Kuis\\tN.UTS\\tN.UAS\\tNilaiAkhir\")\n",
        "print(\"----------------------------------------------------------\")\n",
        "for i in range(len(listNilai)):\n",
        "    nilai = listNilai[i]\n",
        "\n",
        "print(\"{}. {}\\t {}\\t {}\\t {}\\t {}\\t {}\".format(i + 1, nilai[\"nama\"], nilai[\"tugas\"], nilai[\"kuis\"], nilai[\"uts\"], nilai[\"uas\"], (nilai[\"tugas\"] + nilai[\"kuis\"] + nilai[\"uts\"] + nilai[\"uas\"])/4))"
      ]
    },
    {
      "cell_type": "markdown",
      "metadata": {
        "id": "Ym-Iq1zIEoib"
      },
      "source": [
        "6.Program untuk menjumlahkan 2 buah matriks"
      ]
    },
    {
      "cell_type": "code",
      "execution_count": 2,
      "metadata": {
        "colab": {
          "base_uri": "https://localhost:8080/"
        },
        "id": "R3V7uXrOEtzI",
        "outputId": "d0646cc8-e78d-4276-da32-04c11c7d6f46"
      },
      "outputs": [
        {
          "output_type": "stream",
          "name": "stdout",
          "text": [
            "masukkan jumlah baris= 2\n",
            "masukkan jumlah kolom= 1\n",
            "masukkan elemen matriks A= \n",
            "1\n",
            "2\n",
            "matriksA= \n",
            " 1\n",
            " 2\n",
            "masukkan elemen matriks B= \n",
            "1\n",
            "2\n",
            "matriksB= \n",
            " 1\n",
            " 2\n",
            "penjumlahan = \n",
            " 2\n",
            " 4\n"
          ]
        }
      ],
      "source": [
        "baris=int(input(\"masukkan jumlah baris= \"))\n",
        "kolom=int(input(\"masukkan jumlah kolom= \"))\n",
        "\n",
        "print(\"masukkan elemen matriks A= \")\n",
        "matriksA=[[int(input())for i in range(kolom)]for j in range(baris)]\n",
        "print(\"matriksA= \")\n",
        "for i in range(baris):\n",
        "  for j in range(kolom):\n",
        "    print(format(matriksA[i][j], \" \"),end=\"\")\n",
        "  print()\n",
        "\n",
        "print(\"masukkan elemen matriks B= \")\n",
        "matriksB=[[int(input())for i in range(kolom)]for j in range(baris)]\n",
        "print(\"matriksB= \")\n",
        "for i in range(baris):\n",
        "  for j in range(kolom):\n",
        "    print(format(matriksB[i][j], \" \"),end=\"\")\n",
        "  print()\n",
        "\n",
        "penjumlahan=[[0 for i in range(kolom)]for j in range(baris)]\n",
        "\n",
        "for i in range(len(matriksA)):\n",
        "  for j in range(len(matriksA[0])):\n",
        "    penjumlahan[i][j]=matriksA[i] [j] + matriksB[i] [j]\n",
        "\n",
        "print(\"penjumlahan = \")\n",
        "for i in range(baris):\n",
        "  for j in range(kolom):\n",
        "    print(format(penjumlahan[i] [j],\" \"),end=\"\")\n",
        "  print()"
      ]
    }
  ],
  "metadata": {
    "colab": {
      "name": "Tugas Pertemuan 13.ipynb",
      "provenance": [],
      "collapsed_sections": [],
      "authorship_tag": "ABX9TyP5CXdLdke1jhEH2pYHNAzn",
      "include_colab_link": true
    },
    "kernelspec": {
      "display_name": "Python 3",
      "name": "python3"
    },
    "language_info": {
      "name": "python"
    }
  },
  "nbformat": 4,
  "nbformat_minor": 0
}